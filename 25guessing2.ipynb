{
 "cells": [
  {
   "cell_type": "markdown",
   "metadata": {},
   "source": [
    "# 25. Guessing Game Two\n",
    "From [PracticePython.org](https://www.practicepython.org/exercise/2015/11/01/25-guessing-game-two.html):\n",
    "\n",
    "> In a previous exercise, we’ve written a program that “knows” a number and asks a user to guess it.\n",
    ">\n",
    "> This time, we’re going to do exactly the opposite. You, the user, will have in your head a number between 0 and 100. The program will guess a number, and you, the user, will say whether it is too high, too low, or your number.\n",
    ">\n",
    "> At the end of this exchange, your program should print out how many guesses it took to get your number.\n",
    ">\n",
    "> As the writer of this program, you will have to choose how your program will strategically guess. A naive strategy can be to simply start the guessing at 1, and keep going (2, 3, 4, etc.) until you hit the number. But that’s not an optimal guessing strategy. An alternate strategy might be to guess 50 (right in the middle of the range), and then increase / decrease by 1 as needed. After you’ve written the program, try to find the optimal strategy! (We’ll talk about what is the optimal one next week with the solution.)"
   ]
  },
  {
   "cell_type": "code",
   "execution_count": null,
   "metadata": {},
   "outputs": [],
   "source": [
    "low = 0\n",
    "high = 100\n",
    "n = 0\n",
    "response = \"\"\n",
    "menu = (\"CONTROLS:\\n\"\n",
    "        \"1. Too low\\n\"\n",
    "        \"2. Too high\\n\"\n",
    "        \"3. Correct!\\n\")\n",
    "\n",
    "print(menu)\n",
    "print(\"Think of a number from 0 to 100!\")\n",
    "print()\n",
    "\n",
    "while True:\n",
    "    n += 1\n",
    "    guess = (low + high) // 2\n",
    "    print(\"Computer's guess:\", guess, \"\\n\")\n",
    "    response = input(\"The computer's guess was: \")\n",
    "    if response == \"1\":\n",
    "        low = guess + 1\n",
    "    elif response == \"2\":\n",
    "        high = guess - 1\n",
    "    elif response == \"3\":\n",
    "        print(\"Your number was\", guess)\n",
    "        if n == 1:\n",
    "            print(\"The computer guessed it in 1 try\")\n",
    "        else:\n",
    "            print(\"The computer guessed it in\", n, \"tries\")\n",
    "        break\n",
    "    elif response == \"\":\n",
    "        break\n",
    "    else:\n",
    "        print(\"Please enter 1, 2, or 3. Leave blank to quit.\")\n",
    "        n -= 1"
   ]
  }
 ],
 "metadata": {
  "kernelspec": {
   "display_name": "Python 3",
   "language": "python",
   "name": "python3"
  },
  "language_info": {
   "codemirror_mode": {
    "name": "ipython",
    "version": 3
   },
   "file_extension": ".py",
   "mimetype": "text/x-python",
   "name": "python",
   "nbconvert_exporter": "python",
   "pygments_lexer": "ipython3",
   "version": "3.8.3"
  }
 },
 "nbformat": 4,
 "nbformat_minor": 4
}
