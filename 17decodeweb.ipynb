{
  "nbformat": 4,
  "nbformat_minor": 0,
  "metadata": {
    "colab": {
      "name": "17decodeweb.ipynb",
      "provenance": [],
      "authorship_tag": "ABX9TyPg5/ylQd6BQAQhf7dZMQ5F",
      "include_colab_link": true
    },
    "kernelspec": {
      "name": "python3",
      "display_name": "Python 3"
    }
  },
  "cells": [
    {
      "cell_type": "markdown",
      "metadata": {
        "id": "view-in-github",
        "colab_type": "text"
      },
      "source": [
        "<a href=\"https://colab.research.google.com/github/sciflybrarian/practicepython/blob/main/17decodeweb.ipynb\" target=\"_parent\"><img src=\"https://colab.research.google.com/assets/colab-badge.svg\" alt=\"Open In Colab\"/></a>"
      ]
    },
    {
      "cell_type": "markdown",
      "metadata": {
        "id": "PjcQODMHHCce"
      },
      "source": [
        "# 17. Decode a Web Page\n",
        "from [PracticePython.org](https://www.practicepython.org/exercise/2014/06/06/17-decode-a-web-page.html):\n",
        "\n",
        "\n",
        "> Use the [BeautifulSoup](https://www.crummy.com/software/BeautifulSoup/bs4/doc/) and [requests](https://requests.readthedocs.io/en/master/) Python packages to print out a list of all the article titles on the [New York Times](https://www.nytimes.com/) homepage.\n",
        "\n"
      ]
    },
    {
      "cell_type": "markdown",
      "metadata": {
        "id": "4BYL5oKaUB9S"
      },
      "source": [
        "It seems the naming convention for css classes on the NYT website has become a lot more opaque in the couple years since this exercise was written! It'll take a bit more work to weed out the section headers like \"At Home\" and \"Opinion,\" but for now I'm satisfied with this imperfect solution."
      ]
    },
    {
      "cell_type": "code",
      "metadata": {
        "colab": {
          "base_uri": "https://localhost:8080/"
        },
        "id": "JTb86lm8GjxO",
        "outputId": "73d6d608-cc6d-43e4-9622-f862d5487d26"
      },
      "source": [
        "import requests\n",
        "from bs4 import BeautifulSoup\n",
        "\n",
        "nyt = requests.get(\"https://www.nytimes.com/\")\n",
        "soup = BeautifulSoup(nyt.text)\n",
        "headers = soup.find_all('h3') + soup.find_all('h2')\n",
        "for item in headers:\n",
        "  print(item.get_text())"
      ],
      "execution_count": null,
      "outputs": [
        {
          "output_type": "stream",
          "text": [
            "Trump Asks Michigan Lawmakers to White House in Bid to Subvert Election\n",
            "Here’s a timeline of the presidential certification process that President Trump is trying to disrupt.\n",
            "The C.D.C. strongly urges Americans to avoid travel for Thanksgiving.\n",
            "It was a day for dismal records and government disarray.\n",
            "A cutoff of federal unemployment benefits looms for 12 million workers.\n",
            "Tyson suspends workers after lawsuit claims supervisors had a coronavirus betting pool.\n",
            "At Home\n",
            "Opinion\n",
            "Editors’ Picks\n",
            "Advertisement\n",
            "Listen to ‘The Daily’\n",
            "Listen to ‘Sway’ With Kara Swisher\n",
            "The Neediest Cases Fund\n",
            "Live Updates\n",
            "Virus\n",
            "Economy\n",
            "C.D.C. Urges Americans to Avoid Thanksgiving Travel\n",
            "Hospitals and Health Care Workers Issue Call to Arms for Wearing Masks\n",
            "States That Imposed Few Restrictions Now Have the Worst Outbreaks\n",
            "Census Officials Say They Can’t Meet Trump’s Deadline for Count\n",
            "No, Judges Don’t Overturn Elections Because of Isolated Irregularities\n",
            "A Free-for-All Mayor’s Race to Lead New York Through Crisis\n",
            "What if Instead of Calling People Out, We Called Them In?\n",
            "After Crushing the Right, Venezuela Now Targets the Left\n",
            "Getting ‘Black Mayonnaise’ Out of One of America’s Dirtiest Waterways\n",
            "These Items in Your Home Are Harming America’s Sea Animals\n",
            "The Season for Streaming\n",
            "Serve a rich, comforting pumpkin soup for an easy Thanksgiving first course.\n",
            "Are you too easy on your kid? The pandemic makes enforcing rules so much harder.\n",
            "When Will We Throw Our Masks Away? I Asked Dr. Fauci\n",
            "‘Reach Out to Trump Supporters,’ They Said. I Tried.\n",
            "Barr the Bad or Rudy the Ridiculous?\n",
            "Yes, Trump Was Right and Many Democrats Wrong\n",
            "Four Years of the Trump Administration in Court. One Word Stuck in My Head.\n",
            "So, Did ‘Bad Things Happen’ With the Election in Philadelphia?\n",
            "I Am Living in a Covid-Free World Just a Few Hundred Miles From Manhattan\n",
            "Save America’s Restaurants\n",
            "‘Gram, Are You Sad?’ This Year, We’re Spending the Holidays Alone\n",
            "‘The Far Left Is the Republicans’ Finest Asset’\n",
            "How to Persuade Trump to Concede\n",
            "David Fincher’s Impossible Eye\n",
            "‘Animaniacs’ Is Back, Still Zany and Totally Insane-y\n",
            "Going ‘Full Suburb’: An Upsizing Couple Leave Brooklyn for New Jersey\n",
            "Site Index\n",
            "Site Information Navigation\n"
          ],
          "name": "stdout"
        }
      ]
    }
  ]
}