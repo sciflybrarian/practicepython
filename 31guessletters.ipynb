{
 "cells": [
  {
   "cell_type": "markdown",
   "metadata": {},
   "source": [
    "# 31. Guess Letters\n",
    "\n",
    "From [PracticePython.org](https://www.practicepython.org/exercise/2017/01/02/31-guess-letters.html):\n",
    "\n",
    "> Let’s continue building Hangman. In the game of Hangman, a clue word is given by the program that the player has to guess, letter by letter. The player guesses one letter at a time until the entire word has been guessed. (In the actual game, the player can only guess 6 letters incorrectly before losing).\n",
    ">\n",
    "> Let’s say the word the player has to guess is “EVAPORATE”. For this exercise, write the logic that asks a player to guess a letter and displays letters in the clue word that were guessed correctly. For now, let the player guess an infinite number of times until they get the entire word. As a bonus, keep track of the letters the player guessed and display a different message if the player tries to guess that letter again. Remember to stop the game when all the letters have been guessed correctly! Don’t worry about choosing a word randomly or keeping track of the number of guesses the player has remaining - we will deal with those in a future exercise."
   ]
  },
  {
   "cell_type": "code",
   "execution_count": 15,
   "metadata": {},
   "outputs": [
    {
     "name": "stdout",
     "output_type": "stream",
     "text": [
      "Welcome to Hangman!\n",
      "_ _ _ _ _ _ _ _ _\n",
      "Guess your letter: a\n",
      "_ _ A _ _ _ A _ _\n",
      "Guess your letter: a\n",
      "You already guessed that!\n",
      "Guess your letter: x\n",
      "Incorrect!\n",
      "Guess your letter: x\n",
      "You already guessed that!\n",
      "Guess your letter: e\n",
      "E _ A _ _ _ A _ E\n",
      "Guess your letter: v\n",
      "E V A _ _ _ A _ E\n",
      "Guess your letter: p\n",
      "E V A P _ _ A _ E\n",
      "Guess your letter: o\n",
      "E V A P O _ A _ E\n",
      "Guess your letter: r\n",
      "E V A P O R A _ E\n",
      "Guess your letter: t\n",
      "E V A P O R A T E\n",
      "YOU WIN!\n"
     ]
    }
   ],
   "source": [
    "word = \"EVAPORATE\"\n",
    "guesses = []\n",
    "board = [\"_\" for char in list(word)]\n",
    "\n",
    "def print_board():\n",
    "    print(\" \".join(board))\n",
    "\n",
    "print(\"Welcome to Hangman!\")\n",
    "print_board()\n",
    "\n",
    "while True:\n",
    "    correct = False\n",
    "    guess = input(\"Guess your letter: \").upper()\n",
    "    if guess == \"\":\n",
    "        break\n",
    "    if guess in guesses:\n",
    "        print(\"You already guessed that!\")\n",
    "        continue\n",
    "    guesses.append(guess)\n",
    "    for i in range(len(word)):\n",
    "        if guess == word[i]:\n",
    "            correct = True\n",
    "            board[i] = guess\n",
    "    if correct:\n",
    "        print_board()\n",
    "        if \"_\" not in board:\n",
    "            print(\"You win!\")\n",
    "            break\n",
    "    else:\n",
    "        print(\"Incorrect!\")"
   ]
  }
 ],
 "metadata": {
  "kernelspec": {
   "display_name": "Python 3",
   "language": "python",
   "name": "python3"
  },
  "language_info": {
   "codemirror_mode": {
    "name": "ipython",
    "version": 3
   },
   "file_extension": ".py",
   "mimetype": "text/x-python",
   "name": "python",
   "nbconvert_exporter": "python",
   "pygments_lexer": "ipython3",
   "version": "3.8.3"
  }
 },
 "nbformat": 4,
 "nbformat_minor": 4
}
