{
 "cells": [
  {
   "cell_type": "markdown",
   "metadata": {},
   "source": [
    "From [PracticePython.org](https://www.practicepython.org/exercise/2017/04/02/36-birthday-plots.html):\n",
    "\n",
    "> In the previous exercise we counted how many birthdays there are in each month in our dictionary of birthdays.\n",
    ">\n",
    "> In this exercise, use the bokeh Python library to plot a histogram of which months the scientists have birthdays in! Because it would take a long time for you to input the months of various scientists, you can use my scientist birthday JSON file. Just parse out the months (if you don’t know how, I suggest looking at the previous exercise or its solution) and draw your histogram."
   ]
  },
  {
   "cell_type": "code",
   "execution_count": 1,
   "metadata": {},
   "outputs": [],
   "source": [
    "import json\n",
    "from collections import Counter\n",
    "from calendar import month_name\n",
    "from bokeh.plotting import figure, show, output_file"
   ]
  },
  {
   "cell_type": "code",
   "execution_count": 2,
   "metadata": {},
   "outputs": [
    {
     "data": {
      "text/plain": [
       "{'Octavia Butler': 'June 22, 1947',\n",
       " 'Samuel Delany': 'April 1, 1942',\n",
       " 'Ursula Le Guin': 'October 21, 1929',\n",
       " 'Nnedi Okorafor': 'April 8, 1974',\n",
       " 'N. K. Jemisin': 'September 19, 1972',\n",
       " 'Toni Morrison': 'February 18, 1931',\n",
       " 'James Baldwin': 'August 2, 1924'}"
      ]
     },
     "execution_count": 2,
     "metadata": {},
     "output_type": "execute_result"
    }
   ],
   "source": [
    "with open('assets/birthday.json', 'r') as file:\n",
    "    birthdict = json.load(file)\n",
    "    \n",
    "birthdict"
   ]
  },
  {
   "cell_type": "code",
   "execution_count": 3,
   "metadata": {},
   "outputs": [
    {
     "data": {
      "text/plain": [
       "Counter({'June': 1,\n",
       "         'April': 2,\n",
       "         'October': 1,\n",
       "         'September': 1,\n",
       "         'February': 1,\n",
       "         'August': 1})"
      ]
     },
     "execution_count": 3,
     "metadata": {},
     "output_type": "execute_result"
    }
   ],
   "source": [
    "# count birthday months\n",
    "months = [val.split()[0] for val in birthdict.values()]\n",
    "month_count = Counter(months)\n",
    "month_count"
   ]
  },
  {
   "cell_type": "code",
   "execution_count": 4,
   "metadata": {
    "scrolled": true
   },
   "outputs": [
    {
     "data": {
      "text/plain": [
       "['January',\n",
       " 'February',\n",
       " 'March',\n",
       " 'April',\n",
       " 'May',\n",
       " 'June',\n",
       " 'July',\n",
       " 'August',\n",
       " 'September',\n",
       " 'October',\n",
       " 'November',\n",
       " 'December']"
      ]
     },
     "execution_count": 4,
     "metadata": {},
     "output_type": "execute_result"
    }
   ],
   "source": [
    "# generate full list of month names for x axis\n",
    "months = list(month_name)[-12:]\n",
    "months"
   ]
  },
  {
   "cell_type": "code",
   "execution_count": 5,
   "metadata": {},
   "outputs": [],
   "source": [
    "# make the plot\n",
    "output_file('assets/birthday_plot.html')\n",
    "p = figure(x_range=months)\n",
    "p.vbar(x=list(month_count.keys()), top=list(month_count.values()), width=0.5)\n",
    "show(p)"
   ]
  }
 ],
 "metadata": {
  "kernelspec": {
   "display_name": "Python 3",
   "language": "python",
   "name": "python3"
  },
  "language_info": {
   "codemirror_mode": {
    "name": "ipython",
    "version": 3
   },
   "file_extension": ".py",
   "mimetype": "text/x-python",
   "name": "python",
   "nbconvert_exporter": "python",
   "pygments_lexer": "ipython3",
   "version": "3.8.3"
  }
 },
 "nbformat": 4,
 "nbformat_minor": 4
}
