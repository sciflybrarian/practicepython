{
 "cells": [
  {
   "cell_type": "markdown",
   "metadata": {},
   "source": [
    "# 33. Birthday Dictionaries\n",
    "\n",
    "From [PracticePython.org](https://www.practicepython.org/exercise/2017/01/24/33-birthday-dictionaries.html):\n",
    "\n",
    "> For this exercise, we will keep track of when our friend’s birthdays are, and be able to find that information based on their name. Create a dictionary (in your file) of names and birthdays. When you run your program it should ask the user to enter a name, and return the birthday of that person back to them."
   ]
  },
  {
   "cell_type": "code",
   "execution_count": 3,
   "metadata": {},
   "outputs": [
    {
     "name": "stdout",
     "output_type": "stream",
     "text": [
      "Welcome to the birthday dictionary. We know the birthdays of:\n",
      "\n",
      "Octavia Butler\n",
      "Samuel Delany\n",
      "Ursula Le Guin\n",
      "Nnedi Okorafor\n",
      "N. K. Jemisin\n",
      "\n",
      "Please enter a name: Octavia Butler\n",
      "\n",
      "Octavia Butler's birthday is June 22, 1947.\n"
     ]
    }
   ],
   "source": [
    "import datetime as dt\n",
    "\n",
    "birthdict = {\n",
    "    \"Octavia Butler\": dt.datetime(1947, 6, 22),\n",
    "    \"Samuel Delany\": dt.datetime(1942, 4, 1),\n",
    "    \"Ursula Le Guin\": dt.datetime(1929, 10, 21),\n",
    "    \"Nnedi Okorafor\": dt.datetime(1974, 4, 8),\n",
    "    \"N. K. Jemisin\": dt.datetime(1972, 9, 19),\n",
    "}\n",
    "\n",
    "print(\"Welcome to the birthday dictionary. We know the birthdays of:\\n\")\n",
    "for key in birthdict:\n",
    "    print(key)\n",
    "lookup = input(\"\\nPlease enter a name: \")\n",
    "print(\"\\n{}'s birthday is {}.\".format(lookup, birthdict[lookup].strftime(\"%B %d, %Y\")))"
   ]
  }
 ],
 "metadata": {
  "kernelspec": {
   "display_name": "Python 3",
   "language": "python",
   "name": "python3"
  },
  "language_info": {
   "codemirror_mode": {
    "name": "ipython",
    "version": 3
   },
   "file_extension": ".py",
   "mimetype": "text/x-python",
   "name": "python",
   "nbconvert_exporter": "python",
   "pygments_lexer": "ipython3",
   "version": "3.8.3"
  }
 },
 "nbformat": 4,
 "nbformat_minor": 4
}
