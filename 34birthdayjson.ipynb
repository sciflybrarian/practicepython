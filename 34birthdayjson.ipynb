{
 "cells": [
  {
   "cell_type": "markdown",
   "metadata": {},
   "source": [
    "# 33. Birthday JSON\n",
    "\n",
    "From [PracticePython.org](https://www.practicepython.org/exercise/2017/02/06/34-birthday-json.html):\n",
    "\n",
    "> In the previous exercise we created a dictionary of famous scientists’ birthdays. In this exercise, modify your program from [Part 1](https://www.practicepython.org/exercise/2017/01/24/33-birthday-dictionaries.html) to load the birthday dictionary from a JSON file on disk, rather than having the dictionary defined in the program.\n",
    ">\n",
    "> **Bonus:** Ask the user for another scientist’s name and birthday to add to the dictionary, and update the JSON file you have on disk with the scientist’s name. If you run the program multiple times and keep adding new names, your JSON file should keep getting bigger and bigger."
   ]
  },
  {
   "cell_type": "code",
   "execution_count": 12,
   "metadata": {},
   "outputs": [],
   "source": [
    "import json"
   ]
  },
  {
   "cell_type": "code",
   "execution_count": 8,
   "metadata": {},
   "outputs": [],
   "source": [
    "# # save dict from last exercise as JSON\n",
    "# birthdict = {\n",
    "#     'Octavia Butler': 'June 22, 1947',\n",
    "#     'Samuel Delany': 'April 1, 1942',\n",
    "#     'Ursula Le Guin': 'October 21, 1929',\n",
    "#     'Nnedi Okorafor': 'April 8, 1974',\n",
    "#     'N. K. Jemisin': 'September 19, 1972'\n",
    "# }\n",
    "# with open('assets/birthday.json', 'w') as file:\n",
    "#     json.dump(birthdict, file)"
   ]
  },
  {
   "cell_type": "code",
   "execution_count": 16,
   "metadata": {},
   "outputs": [
    {
     "name": "stdout",
     "output_type": "stream",
     "text": [
      "Welcome to the birthday dictionary. We know the birthdays of:\n",
      "\n",
      "Octavia Butler\n",
      "Samuel Delany\n",
      "Ursula Le Guin\n",
      "Nnedi Okorafor\n",
      "N. K. Jemisin\n",
      "Toni Morrison\n",
      "\n",
      "1. Look up birthday\n",
      "2. Add birthday to list\n",
      "3. List all birthdays\n",
      "4. Exit\n",
      "\n",
      "Your choice: 2\n",
      "\n",
      "Name: James Baldwin\n",
      "Birthday: August 2, 1924\n",
      "Added James Baldwin to birthday dictionary.\n",
      "\n",
      "1. Look up birthday\n",
      "2. Add birthday to list\n",
      "3. List all birthdays\n",
      "4. Exit\n",
      "\n",
      "Your choice: 1\n",
      "\n",
      "Please enter a name: James Baldwin\n",
      "\n",
      "James Baldwin's birthday is August 2, 1924.\n",
      "\n",
      "1. Look up birthday\n",
      "2. Add birthday to list\n",
      "3. List all birthdays\n",
      "4. Exit\n",
      "\n",
      "Your choice: 3\n",
      "\n",
      "Octavia Butler: June 22, 1947\n",
      "Samuel Delany: April 1, 1942\n",
      "Ursula Le Guin: October 21, 1929\n",
      "Nnedi Okorafor: April 8, 1974\n",
      "N. K. Jemisin: September 19, 1972\n",
      "Toni Morrison: February 18, 1931\n",
      "James Baldwin: August 2, 1924\n",
      "\n",
      "1. Look up birthday\n",
      "2. Add birthday to list\n",
      "3. List all birthdays\n",
      "4. Exit\n",
      "\n",
      "Your choice: 4\n"
     ]
    }
   ],
   "source": [
    "with open('assets/birthday.json', 'r') as file:\n",
    "    birthdict = json.load(file)\n",
    "    \n",
    "menu = '''\\n1. Look up birthday\n",
    "2. Add birthday to list\n",
    "3. List all birthdays\n",
    "4. Exit\n",
    "\n",
    "Your choice: '''\n",
    "\n",
    "def lookup():\n",
    "    lookup = input(\"\\nPlease enter a name: \")\n",
    "    print(\"\\n{}'s birthday is {}.\".format(lookup, birthdict[lookup]))\n",
    "def add():\n",
    "    name = input('\\nName: ').strip()\n",
    "    bday = input('Birthday: ').strip()\n",
    "    birthdict[name] = bday\n",
    "    with open('assets/birthday.json', 'w') as file:\n",
    "        json.dump(birthdict, file)\n",
    "    print('Added {} to birthday dictionary.'.format(name))\n",
    "def list_all():\n",
    "    print()\n",
    "    for name, bday in birthdict.items():\n",
    "        print('{}: {}'.format(name, bday))\n",
    "\n",
    "#runtime\n",
    "print(\"Welcome to the birthday dictionary. We know the birthdays of:\\n\")\n",
    "for key in birthdict:\n",
    "    print(key)\n",
    "while True:\n",
    "    action = input(menu)\n",
    "    if action == '1':\n",
    "        lookup()\n",
    "    elif action == '2':\n",
    "        add()\n",
    "    elif action == '3':\n",
    "        list_all()\n",
    "    elif action == '4' or action == '':\n",
    "        break\n",
    "    else:\n",
    "        print('Please enter a number from 1-4.')"
   ]
  }
 ],
 "metadata": {
  "kernelspec": {
   "display_name": "Python 3",
   "language": "python",
   "name": "python3"
  },
  "language_info": {
   "codemirror_mode": {
    "name": "ipython",
    "version": 3
   },
   "file_extension": ".py",
   "mimetype": "text/x-python",
   "name": "python",
   "nbconvert_exporter": "python",
   "pygments_lexer": "ipython3",
   "version": "3.8.3"
  }
 },
 "nbformat": 4,
 "nbformat_minor": 4
}
