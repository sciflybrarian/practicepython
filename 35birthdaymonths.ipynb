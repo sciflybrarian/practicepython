{
 "cells": [
  {
   "cell_type": "markdown",
   "metadata": {},
   "source": [
    "# 35. Birthday Months\n",
    "\n",
    "From [PracticePython.org](https://www.practicepython.org/exercise/2017/02/28/35-birthday-months.html):\n",
    "\n",
    "> In the previous exercise we saved information about famous scientists’ names and birthdays to disk. In this exercise, load that JSON file from disk, extract the months of all the birthdays, and count how many scientists have a birthday in each month.\n",
    ">\n",
    "> Your program should output something like:\n",
    "> ```\n",
    "{\n",
    "\t\"May\": 3,\n",
    "\t\"November\": 2,\n",
    "\t\"December\": 1\n",
    "}```"
   ]
  },
  {
   "cell_type": "code",
   "execution_count": 3,
   "metadata": {},
   "outputs": [
    {
     "data": {
      "text/plain": [
       "{'Octavia Butler': 'June 22, 1947',\n",
       " 'Samuel Delany': 'April 1, 1942',\n",
       " 'Ursula Le Guin': 'October 21, 1929',\n",
       " 'Nnedi Okorafor': 'April 8, 1974',\n",
       " 'N. K. Jemisin': 'September 19, 1972',\n",
       " 'Toni Morrison': 'February 18, 1931',\n",
       " 'James Baldwin': 'August 2, 1924'}"
      ]
     },
     "execution_count": 3,
     "metadata": {},
     "output_type": "execute_result"
    }
   ],
   "source": [
    "import json\n",
    "from collections import Counter\n",
    "\n",
    "with open('assets/birthday.json', 'r') as file:\n",
    "    birthdict = json.load(file)\n",
    "    \n",
    "birthdict"
   ]
  },
  {
   "cell_type": "code",
   "execution_count": 4,
   "metadata": {},
   "outputs": [
    {
     "name": "stdout",
     "output_type": "stream",
     "text": [
      "Counter({'April': 2, 'June': 1, 'October': 1, 'September': 1, 'February': 1, 'August': 1})\n"
     ]
    }
   ],
   "source": [
    "months = [val.split()[0] for val in birthdict.values()]\n",
    "month_count = Counter(months)\n",
    "print(month_count)"
   ]
  }
 ],
 "metadata": {
  "kernelspec": {
   "display_name": "Python 3",
   "language": "python",
   "name": "python3"
  },
  "language_info": {
   "codemirror_mode": {
    "name": "ipython",
    "version": 3
   },
   "file_extension": ".py",
   "mimetype": "text/x-python",
   "name": "python",
   "nbconvert_exporter": "python",
   "pygments_lexer": "ipython3",
   "version": "3.8.3"
  }
 },
 "nbformat": 4,
 "nbformat_minor": 4
}
