{
 "cells": [
  {
   "cell_type": "markdown",
   "metadata": {},
   "source": [
    "# 28. Max of Three\n",
    "\n",
    "From [PracticePython.org](https://www.practicepython.org/exercise/2016/03/27/28-max-of-three.html):\n",
    "\n",
    "> Implement a function that takes as input three variables, and returns the largest of the three. Do this without using the Python max() function!\n",
    ">\n",
    "> The goal of this exercise is to think about some internals that Python normally takes care of for us. All you need is some variables and if statements!"
   ]
  },
  {
   "cell_type": "markdown",
   "metadata": {},
   "source": [
    "## Solution 1\n",
    "No loops to avoid redundant calculations"
   ]
  },
  {
   "cell_type": "code",
   "execution_count": 35,
   "metadata": {},
   "outputs": [],
   "source": [
    "def max_1(x, y, z):\n",
    "    if x > y:\n",
    "        if x > z:\n",
    "            return x\n",
    "        else:\n",
    "            return z\n",
    "    elif y > z:\n",
    "        return y\n",
    "    else:\n",
    "        return z"
   ]
  },
  {
   "cell_type": "markdown",
   "metadata": {},
   "source": [
    "Let's see how fast this runs!"
   ]
  },
  {
   "cell_type": "code",
   "execution_count": 36,
   "metadata": {},
   "outputs": [
    {
     "data": {
      "text/plain": [
       "0.1377661999999873"
      ]
     },
     "execution_count": 36,
     "metadata": {},
     "output_type": "execute_result"
    }
   ],
   "source": [
    "import timeit as ti\n",
    "\n",
    "setup_1 = '''\n",
    "def max_1(x, y, z):\n",
    "    if x > y:\n",
    "        if x > z:\n",
    "            return x\n",
    "        else:\n",
    "            return z\n",
    "    elif y > z:\n",
    "        return y\n",
    "    else:\n",
    "        return z\n",
    "'''\n",
    "\n",
    "ti.timeit(\"max_1(1, 2, 3)\", setup_1)"
   ]
  },
  {
   "cell_type": "markdown",
   "metadata": {},
   "source": [
    "## Solution 2\n",
    "Shorter code, longer execution time"
   ]
  },
  {
   "cell_type": "code",
   "execution_count": 37,
   "metadata": {},
   "outputs": [],
   "source": [
    "def max_2(x, y, z):\n",
    "    lst = [x, y, z]\n",
    "    for num in lst:\n",
    "        if all([num >= var for var in lst]):\n",
    "            return num"
   ]
  },
  {
   "cell_type": "code",
   "execution_count": 38,
   "metadata": {},
   "outputs": [
    {
     "data": {
      "text/plain": [
       "1.6238984999999957"
      ]
     },
     "execution_count": 38,
     "metadata": {},
     "output_type": "execute_result"
    }
   ],
   "source": [
    "setup_2 = '''\n",
    "def max_2(x, y, z):\n",
    "    lst = [x, y, z]\n",
    "    for num in lst:\n",
    "        if all([num >= var for var in lst]):\n",
    "            return num\n",
    "'''\n",
    "\n",
    "ti.timeit(\"max_2(1, 2, 3)\", setup_2)"
   ]
  },
  {
   "cell_type": "markdown",
   "metadata": {},
   "source": [
    "## Solution 3\n",
    "\n",
    "Can I find a method that's faster but less code intensive?"
   ]
  },
  {
   "cell_type": "code",
   "execution_count": 39,
   "metadata": {},
   "outputs": [],
   "source": [
    "def max_3(x, y, z):\n",
    "    lst = [x, y, z]\n",
    "    for i in range(2):\n",
    "        if all(lst[i] >= var for var in lst[i+1:]):\n",
    "            return lst[i]\n",
    "    return z"
   ]
  },
  {
   "cell_type": "code",
   "execution_count": 40,
   "metadata": {},
   "outputs": [
    {
     "data": {
      "text/plain": [
       "1.6839122000001225"
      ]
     },
     "execution_count": 40,
     "metadata": {},
     "output_type": "execute_result"
    }
   ],
   "source": [
    "setup_3 = '''\n",
    "def max_3(x, y, z):\n",
    "    lst = [x, y, z]\n",
    "    for i in range(2):\n",
    "        if all(lst[i] >= var for var in lst[i+1:]):\n",
    "            return lst[i]\n",
    "    return z\n",
    "'''\n",
    "\n",
    "ti.timeit(\"max_3(1, 2, 3)\", setup_3)"
   ]
  },
  {
   "cell_type": "markdown",
   "metadata": {},
   "source": [
    "LOL, I somehow made it slower! Oh well, I thought it was a clever solution, anyway."
   ]
  },
  {
   "cell_type": "markdown",
   "metadata": {},
   "source": [
    "## Compare to max()\n",
    "\n",
    "Out of curiosity, how do my speeds compare to the max() function?"
   ]
  },
  {
   "cell_type": "code",
   "execution_count": 41,
   "metadata": {},
   "outputs": [
    {
     "data": {
      "text/plain": [
       "0.1705071000001226"
      ]
     },
     "execution_count": 41,
     "metadata": {},
     "output_type": "execute_result"
    }
   ],
   "source": [
    "ti.timeit(\"max(1, 2, 3)\")"
   ]
  }
 ],
 "metadata": {
  "kernelspec": {
   "display_name": "Python 3",
   "language": "python",
   "name": "python3"
  },
  "language_info": {
   "codemirror_mode": {
    "name": "ipython",
    "version": 3
   },
   "file_extension": ".py",
   "mimetype": "text/x-python",
   "name": "python",
   "nbconvert_exporter": "python",
   "pygments_lexer": "ipython3",
   "version": "3.8.3"
  }
 },
 "nbformat": 4,
 "nbformat_minor": 4
}
