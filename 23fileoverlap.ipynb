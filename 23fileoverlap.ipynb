{
 "cells": [
  {
   "cell_type": "markdown",
   "metadata": {},
   "source": [
    "# Exercise 23: File Overlap\n",
    "From [PracticePython.org](https://www.practicepython.org/exercise/2014/12/14/23-file-overlap.html):\n",
    "> Given two .txt files that have lists of numbers in them, find the numbers that are overlapping. [One .txt file](http://www.practicepython.org/assets/primenumbers.txt) has a list of all prime numbers under 1000, and the [other .txt file](https://www.practicepython.org/exercise/2014/12/14/23-file-overlap.html) has a list of happy numbers up to 1000."
   ]
  },
  {
   "cell_type": "code",
   "execution_count": 5,
   "metadata": {},
   "outputs": [
    {
     "name": "stdout",
     "output_type": "stream",
     "text": [
      "[7, 13, 19, 23, 31, 79, 97, 103, 109, 139, 167, 193, 239, 263, 293, 313, 331, 367, 379, 383, 397, 487, 563, 617, 653, 673, 683, 709, 739, 761, 881, 907, 937]\n"
     ]
    }
   ],
   "source": [
    "primes = open(\"assets/primenumbers.txt\").read().splitlines()\n",
    "happies = open(\"assets/happynumbers.txt\").read().splitlines()\n",
    "\n",
    "overlap = [int(x) for x in primes if x in happies]\n",
    "\n",
    "print(overlap)"
   ]
  }
 ],
 "metadata": {
  "kernelspec": {
   "display_name": "Python 3",
   "language": "python",
   "name": "python3"
  },
  "language_info": {
   "codemirror_mode": {
    "name": "ipython",
    "version": 3
   },
   "file_extension": ".py",
   "mimetype": "text/x-python",
   "name": "python",
   "nbconvert_exporter": "python",
   "pygments_lexer": "ipython3",
   "version": "3.8.3"
  }
 },
 "nbformat": 4,
 "nbformat_minor": 4
}
