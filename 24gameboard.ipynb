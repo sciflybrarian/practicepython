{
 "cells": [
  {
   "cell_type": "markdown",
   "metadata": {},
   "source": [
    "# 24. Draw a Game Board\n",
    "\n",
    "from [PracticePython.org](https://www.practicepython.org/exercise/2014/12/27/24-draw-a-game-board.html):\n",
    "\n",
    "> Time for some fake graphics! Let’s say we want to draw game boards that look like this:\n",
    "\n",
    "```\n",
    " --- --- --- \n",
    "|   |   |   | \n",
    " --- --- ---  \n",
    "|   |   |   | \n",
    " --- --- ---  \n",
    "|   |   |   | \n",
    " --- --- --- \n",
    "```\n",
    "\n",
    "> This one is 3x3 (like in tic tac toe). Obviously, they come in many other sizes (8x8 for chess, 19x19 for Go, and many more).\n",
    "> Ask the user what size game board they want to draw, and draw it for them to the screen using Python’s print statement.\n"
   ]
  },
  {
   "cell_type": "code",
   "execution_count": 4,
   "metadata": {},
   "outputs": [
    {
     "name": "stdout",
     "output_type": "stream",
     "text": [
      "GAME BOARD GENERATOR\n",
      "\n",
      "Width: 10\n",
      "Height: 10\n",
      "\n",
      " --- --- --- --- --- --- --- --- --- ---\n",
      "|   |   |   |   |   |   |   |   |   |   |\n",
      " --- --- --- --- --- --- --- --- --- ---\n",
      "|   |   |   |   |   |   |   |   |   |   |\n",
      " --- --- --- --- --- --- --- --- --- ---\n",
      "|   |   |   |   |   |   |   |   |   |   |\n",
      " --- --- --- --- --- --- --- --- --- ---\n",
      "|   |   |   |   |   |   |   |   |   |   |\n",
      " --- --- --- --- --- --- --- --- --- ---\n",
      "|   |   |   |   |   |   |   |   |   |   |\n",
      " --- --- --- --- --- --- --- --- --- ---\n",
      "|   |   |   |   |   |   |   |   |   |   |\n",
      " --- --- --- --- --- --- --- --- --- ---\n",
      "|   |   |   |   |   |   |   |   |   |   |\n",
      " --- --- --- --- --- --- --- --- --- ---\n",
      "|   |   |   |   |   |   |   |   |   |   |\n",
      " --- --- --- --- --- --- --- --- --- ---\n",
      "|   |   |   |   |   |   |   |   |   |   |\n",
      " --- --- --- --- --- --- --- --- --- ---\n",
      "|   |   |   |   |   |   |   |   |   |   |\n",
      " --- --- --- --- --- --- --- --- --- ---\n"
     ]
    }
   ],
   "source": [
    "print(\"GAME BOARD GENERATOR\\n\")\n",
    "\n",
    "x = int(input(\"Width: \"))\n",
    "y = int(input(\"Height: \"))\n",
    "\n",
    "print()\n",
    "\n",
    "for row in range(y):\n",
    "    print(\" ---\" * x)\n",
    "    print(\"|   \" * x + \"|\")\n",
    "print(\" ---\" * x)"
   ]
  },
  {
   "cell_type": "code",
   "execution_count": null,
   "metadata": {},
   "outputs": [],
   "source": []
  }
 ],
 "metadata": {
  "kernelspec": {
   "display_name": "Python 3",
   "language": "python",
   "name": "python3"
  },
  "language_info": {
   "codemirror_mode": {
    "name": "ipython",
    "version": 3
   },
   "file_extension": ".py",
   "mimetype": "text/x-python",
   "name": "python",
   "nbconvert_exporter": "python",
   "pygments_lexer": "ipython3",
   "version": "3.8.3"
  }
 },
 "nbformat": 4,
 "nbformat_minor": 4
}
