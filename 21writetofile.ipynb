{
  "nbformat": 4,
  "nbformat_minor": 0,
  "metadata": {
    "colab": {
      "name": "21writetofile.ipynb",
      "provenance": [],
      "authorship_tag": "ABX9TyMedCkXbxuzzmORL3YqUvTt",
      "include_colab_link": true
    },
    "kernelspec": {
      "name": "python3",
      "display_name": "Python 3"
    }
  },
  "cells": [
    {
      "cell_type": "markdown",
      "metadata": {
        "id": "view-in-github",
        "colab_type": "text"
      },
      "source": [
        "<a href=\"https://colab.research.google.com/github/sciflybrarian/practicepython/blob/main/21writetofile.ipynb\" target=\"_parent\"><img src=\"https://colab.research.google.com/assets/colab-badge.svg\" alt=\"Open In Colab\"/></a>"
      ]
    },
    {
      "cell_type": "markdown",
      "metadata": {
        "id": "WCLHelLxifDO"
      },
      "source": [
        "from [PracticePython.org](https://www.practicepython.org/exercise/2014/11/30/21-write-to-a-file.html):\n",
        "\n",
        "\n",
        "> Take the code from the How To Decode A Website exercise (if you didn’t do it or just want to play with some different code, use the code from the solution), and instead of printing the results to a screen, write the results to a txt file. In your code, just make up a name for the file you are saving to.\n",
        ">\n",
        "> Extras:\n",
        ">\n",
        ">* Ask the user to specify the name of the output file that will be saved."
      ]
    },
    {
      "cell_type": "code",
      "metadata": {
        "id": "K8kFCkXZiSd-"
      },
      "source": [
        "import requests\n",
        "# https://requests.readthedocs.io/en/master/\n",
        "from bs4 import BeautifulSoup\n",
        "# https://www.crummy.com/software/BeautifulSoup/bs4/doc/\n",
        "\n",
        "link = requests.get(\"https://www.vanityfair.com/style/society/2014/06/monica-lewinsky-humiliation-culture\")\n",
        "soup = BeautifulSoup(link.text)\n",
        "for para in soup.find_all('p'):\n",
        "  with open('lewinsky.txt', 'a') as open_file:\n",
        "    open_file.write(para.get_text() + \"\\n\\n\")"
      ],
      "execution_count": 5,
      "outputs": []
    }
  ]
}